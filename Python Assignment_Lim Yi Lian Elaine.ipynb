{
 "cells": [
  {
   "cell_type": "code",
   "execution_count": null,
   "metadata": {},
   "outputs": [
    {
     "name": "stdout",
     "output_type": "stream",
     "text": [
      "Welcome to Number Guess\n"
     ]
    }
   ],
   "source": [
    "# Exercise 1:\n",
    "# Create a Python project to guess a number that has randomly selected.\n",
    "\n",
    "import random\n",
    "number=random.randrange(0,100)\n",
    "guessCheck=\"wrong\"\n",
    "print(\"Welcome to Number Guess\")\n",
    "\n",
    "while guessCheck==\"wrong\":\n",
    "    response=int(input(\"Please input a number between 0 and 100:\"))\n",
    "    try:\n",
    "        val=int(response)\n",
    "    except ValueError:\n",
    "        print(\"This is not a valid integer. Please try again\")\n",
    "        continue\n",
    "    val=int (response)\n",
    "    if val<number:\n",
    "        print(\"This is lower than actual number. Please try again.\")\n",
    "    elif val>number:\n",
    "        print(\"This is higher than actual number. Please try again.\")\n",
    "    else:\n",
    "        print(\"This is the correct number\")\n",
    "        guessCheck=\"correct\"\n",
    "print(\"Thank you for playing Number Guess. See you again\")"
   ]
  },
  {
   "cell_type": "code",
   "execution_count": null,
   "metadata": {},
   "outputs": [],
   "source": [
    "# Exercise 2:\n",
    "# Create a Python project of a Magic 8 Ball, which is a toy used for fortune-telling forseeking advice.\n",
    "# 1.Allow the user to input their question\n",
    "# 2.1.Show an in-progress message.\n",
    "# 3.1.Allow the user to ask another question/advice or quit the game.\n",
    "\n",
    "answers = ['It is certain', 'It is decidedly so', 'Without a doubt', 'Yes – definitely', 'You may   rely on it', 'As I see it, yes', 'Most likely', 'Outlook good', 'Yes Signs point to yes',   'Reply hazy', 'try again', 'Ask again later', 'Better not tell you now', 'Cannot   predict now', 'Concentrate and ask again', 'Don’t count on it', 'My reply is no',   'My sources say no', 'Outlook not so good', 'Very doubtful']\n",
    "\n",
    "import random\n",
    "\n",
    "def Magic_8_Ball():\n",
    "    print('Ask me a question!')\n",
    "    input()\n",
    "    print(answers[random.randrange(len(answers))])\n",
    "    Replay()\n",
    "    \n",
    "def Replay():\n",
    "    print('Another try? [Y/N]')\n",
    "    reply = input()\n",
    "    if reply == 'Y':\n",
    "        Magic_8_Ball()\n",
    "    elif reply == 'N': \n",
    "        print('Thank you and see you again!')\n",
    "        exit()\n",
    "    else:\n",
    "        print('Apologies. I did not catch that')\n",
    "        Replay()"
   ]
  },
  {
   "cell_type": "code",
   "execution_count": null,
   "metadata": {},
   "outputs": [],
   "source": [
    "Magic_8_Ball()"
   ]
  },
  {
   "cell_type": "code",
   "execution_count": null,
   "metadata": {},
   "outputs": [],
   "source": []
  }
 ],
 "metadata": {
  "kernelspec": {
   "display_name": "Python 3",
   "language": "python",
   "name": "python3"
  },
  "language_info": {
   "codemirror_mode": {
    "name": "ipython",
    "version": 3
   },
   "file_extension": ".py",
   "mimetype": "text/x-python",
   "name": "python",
   "nbconvert_exporter": "python",
   "pygments_lexer": "ipython3",
   "version": "3.8.3"
  }
 },
 "nbformat": 4,
 "nbformat_minor": 4
}
